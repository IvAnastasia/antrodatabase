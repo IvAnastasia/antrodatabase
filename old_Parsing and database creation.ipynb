{
 "cells": [
  {
   "cell_type": "code",
   "execution_count": 1,
   "metadata": {},
   "outputs": [
    {
     "name": "stdout",
     "output_type": "stream",
     "text": [
      "Requirement already satisfied: python-docx in c:\\users\\nasty\\anaconda3\\lib\\site-packages (0.8.11)\n",
      "Requirement already satisfied: lxml>=2.3.2 in c:\\users\\nasty\\anaconda3\\lib\\site-packages (from python-docx) (4.6.1)\n"
     ]
    }
   ],
   "source": [
    "! pip install python-docx"
   ]
  },
  {
   "cell_type": "code",
   "execution_count": 2,
   "metadata": {},
   "outputs": [],
   "source": [
    "import os\n",
    "import docx\n",
    "import re\n",
    "import sqlite3\n",
    "import pandas as pd"
   ]
  },
  {
   "cell_type": "code",
   "execution_count": 3,
   "metadata": {},
   "outputs": [],
   "source": [
    "interviews_paths = []"
   ]
  },
  {
   "cell_type": "code",
   "execution_count": 4,
   "metadata": {},
   "outputs": [],
   "source": [
    "path = r'D:\\Project Python 2022'\n",
    "for root, directories, file in os.walk(path):\n",
    "    for file in file:\n",
    "        if(file.endswith(\".docx\")):\n",
    "            interviews_paths.append(os.path.join(root,file))"
   ]
  },
  {
   "cell_type": "code",
   "execution_count": 5,
   "metadata": {},
   "outputs": [
    {
     "name": "stdout",
     "output_type": "stream",
     "text": [
      "D:\\Project Python 2022\\2021-06-25_Пряжа_Леонид Алексеевич_Недайхлеб, Неминова, Смирнова.docx\n"
     ]
    }
   ],
   "source": [
    "print(interviews_paths[1])"
   ]
  },
  {
   "cell_type": "markdown",
   "metadata": {},
   "source": [
    "**Создание базы данных**"
   ]
  },
  {
   "cell_type": "code",
   "execution_count": 6,
   "metadata": {},
   "outputs": [
    {
     "name": "stdout",
     "output_type": "stream",
     "text": [
      "Requirement already satisfied: ipython-sql in c:\\users\\nasty\\anaconda3\\lib\\site-packages (0.4.0)\n",
      "Requirement already satisfied: sqlparse in c:\\users\\nasty\\anaconda3\\lib\\site-packages (from ipython-sql) (0.4.2)\n",
      "Requirement already satisfied: ipython>=1.0 in c:\\users\\nasty\\anaconda3\\lib\\site-packages (from ipython-sql) (7.19.0)\n",
      "Requirement already satisfied: six in c:\\users\\nasty\\anaconda3\\lib\\site-packages (from ipython-sql) (1.15.0)\n",
      "Requirement already satisfied: ipython-genutils>=0.1.0 in c:\\users\\nasty\\anaconda3\\lib\\site-packages (from ipython-sql) (0.2.0)\n",
      "Requirement already satisfied: prettytable<1 in c:\\users\\nasty\\anaconda3\\lib\\site-packages (from ipython-sql) (0.7.2)\n",
      "Requirement already satisfied: sqlalchemy>=0.6.7 in c:\\users\\nasty\\anaconda3\\lib\\site-packages (from ipython-sql) (1.3.20)\n",
      "Requirement already satisfied: backcall in c:\\users\\nasty\\anaconda3\\lib\\site-packages (from ipython>=1.0->ipython-sql) (0.2.0)\n",
      "Requirement already satisfied: pygments in c:\\users\\nasty\\anaconda3\\lib\\site-packages (from ipython>=1.0->ipython-sql) (2.7.2)\n",
      "Requirement already satisfied: decorator in c:\\users\\nasty\\anaconda3\\lib\\site-packages (from ipython>=1.0->ipython-sql) (4.4.2)\n",
      "Requirement already satisfied: jedi>=0.10 in c:\\users\\nasty\\anaconda3\\lib\\site-packages (from ipython>=1.0->ipython-sql) (0.17.1)\n",
      "Requirement already satisfied: pickleshare in c:\\users\\nasty\\anaconda3\\lib\\site-packages (from ipython>=1.0->ipython-sql) (0.7.5)\n",
      "Requirement already satisfied: colorama; sys_platform == \"win32\" in c:\\users\\nasty\\anaconda3\\lib\\site-packages (from ipython>=1.0->ipython-sql) (0.4.4)\n",
      "Requirement already satisfied: prompt-toolkit!=3.0.0,!=3.0.1,<3.1.0,>=2.0.0 in c:\\users\\nasty\\anaconda3\\lib\\site-packages (from ipython>=1.0->ipython-sql) (3.0.8)\n",
      "Requirement already satisfied: setuptools>=18.5 in c:\\users\\nasty\\anaconda3\\lib\\site-packages (from ipython>=1.0->ipython-sql) (50.3.1.post20201107)\n",
      "Requirement already satisfied: traitlets>=4.2 in c:\\users\\nasty\\anaconda3\\lib\\site-packages (from ipython>=1.0->ipython-sql) (5.0.5)\n",
      "Requirement already satisfied: parso<0.8.0,>=0.7.0 in c:\\users\\nasty\\anaconda3\\lib\\site-packages (from jedi>=0.10->ipython>=1.0->ipython-sql) (0.7.0)\n",
      "Requirement already satisfied: wcwidth in c:\\users\\nasty\\anaconda3\\lib\\site-packages (from prompt-toolkit!=3.0.0,!=3.0.1,<3.1.0,>=2.0.0->ipython>=1.0->ipython-sql) (0.2.5)\n"
     ]
    }
   ],
   "source": [
    "! pip install ipython-sql"
   ]
  },
  {
   "cell_type": "code",
   "execution_count": 7,
   "metadata": {},
   "outputs": [],
   "source": [
    "%load_ext sql\n",
    "%sql sqlite://\n",
    "    \n",
    "con = sqlite3.connect('karelia_database_project.db')  # подключение\n",
    "cur = con.cursor() "
   ]
  },
  {
   "cell_type": "markdown",
   "metadata": {},
   "source": [
    "Таблица реплик"
   ]
  },
  {
   "cell_type": "code",
   "execution_count": 8,
   "metadata": {},
   "outputs": [
    {
     "data": {
      "text/plain": [
       "<sqlite3.Cursor at 0xb16c120>"
      ]
     },
     "execution_count": 8,
     "metadata": {},
     "output_type": "execute_result"
    }
   ],
   "source": [
    "cur.execute(\"\"\"\n",
    "CREATE TABLE IF NOT EXISTS utterances (\n",
    "    utterance_id  INTEGER PRIMARY KEY AUTOINCREMENT,\n",
    "    speaker_id INT,\n",
    "    speaker_role TEXT,\n",
    "    interwiev_id INT,\n",
    "    text TEXT, \n",
    "    utterance_number INT\n",
    ")\n",
    "\"\"\")"
   ]
  },
  {
   "cell_type": "markdown",
   "metadata": {},
   "source": [
    "Таблица интервью"
   ]
  },
  {
   "cell_type": "code",
   "execution_count": 9,
   "metadata": {},
   "outputs": [
    {
     "data": {
      "text/plain": [
       "<sqlite3.Cursor at 0xb16c120>"
      ]
     },
     "execution_count": 9,
     "metadata": {},
     "output_type": "execute_result"
    }
   ],
   "source": [
    "cur.execute(\"\"\"\n",
    "CREATE TABLE  IF NOT EXISTS interviews (\n",
    "    interview_id INTEGER PRIMARY KEY AUTOINCREMENT,\n",
    "    number_in_table INT,\n",
    "    informants TEXT, \n",
    "    interwievers TEXT,\n",
    "    place TEXT,\n",
    "    day INT,\n",
    "    month INT,\n",
    "    year INT\n",
    ")\n",
    "\"\"\")"
   ]
  },
  {
   "cell_type": "markdown",
   "metadata": {},
   "source": [
    "Таблица говорящих (информантов и интервьюеров)"
   ]
  },
  {
   "cell_type": "code",
   "execution_count": 10,
   "metadata": {},
   "outputs": [
    {
     "data": {
      "text/plain": [
       "<sqlite3.Cursor at 0xb16c120>"
      ]
     },
     "execution_count": 10,
     "metadata": {},
     "output_type": "execute_result"
    }
   ],
   "source": [
    "cur.execute(\"\"\"\n",
    "CREATE TABLE  IF NOT EXISTS speaker (\n",
    "    speaker_id  INTEGER PRIMARY KEY AUTOINCREMENT, \n",
    "    speaker_role TEXT,\n",
    "    gender TEXT,\n",
    "    birth_year INT\n",
    ")\n",
    "\"\"\")"
   ]
  },
  {
   "cell_type": "markdown",
   "metadata": {},
   "source": [
    "Таблица с настоящими именами говорящих"
   ]
  },
  {
   "cell_type": "code",
   "execution_count": 11,
   "metadata": {},
   "outputs": [
    {
     "data": {
      "text/plain": [
       "<sqlite3.Cursor at 0xb16c120>"
      ]
     },
     "execution_count": 11,
     "metadata": {},
     "output_type": "execute_result"
    }
   ],
   "source": [
    "cur.execute(\"\"\"\n",
    "CREATE TABLE IF NOT EXISTS speaker_names (\n",
    "    speaker_id INTEGER PRIMARY KEY AUTOINCREMENT, \n",
    "    speaker_role TEXT,\n",
    "    real_name TEXT\n",
    ")\n",
    "\"\"\")"
   ]
  },
  {
   "cell_type": "code",
   "execution_count": 12,
   "metadata": {},
   "outputs": [],
   "source": [
    "id_search = \"\"\"\n",
    "SELECT speaker_id FROM speaker_names WHERE real_name LIKE ?\n",
    "\"\"\""
   ]
  },
  {
   "cell_type": "code",
   "execution_count": 13,
   "metadata": {},
   "outputs": [],
   "source": [
    "interviewer_query = \"\"\"\n",
    "SELECT real_name from speaker_names\n",
    "\"\"\""
   ]
  },
  {
   "cell_type": "code",
   "execution_count": 14,
   "metadata": {},
   "outputs": [],
   "source": [
    "con.commit()"
   ]
  },
  {
   "cell_type": "markdown",
   "metadata": {},
   "source": [
    "Все регулярки"
   ]
  },
  {
   "cell_type": "code",
   "execution_count": 15,
   "metadata": {},
   "outputs": [],
   "source": [
    "#метаинформация интервью\n",
    "reg_number = re.compile(\"Номер интервью в базе.*(.[\\d])\")\n",
    "reg_place = re.compile(\"Место\\:\\s?(.*)\")\n",
    "reg_data = re.compile(\"Дата\\:\\s?(.[\\d.]*)\")\n",
    "reg_inf_names = re.compile(\"_?.*_(.*)_.*\\.docx\")\n",
    "reg_int = re.compile(\"Инт.*—\\s?(.*)\")\n",
    "\n",
    "#информант и интервьюер\n",
    "reg_inf = re.compile(\"Инф.*—\\s?(.*)\")\n",
    "reg_gender = re.compile(\"(\\w{1})\\,\")\n",
    "reg_birth_year = re.compile(\"\\d{4}\")\n",
    "reg_int = re.compile(\"Инт.*—\\s?(.*)\")\n",
    "reg_role_int = re.compile(\"(Инт.*)\\s—\\s?.*\")\n",
    "reg_role_inf = re.compile(\"(Инф.*)\\s—\\s?.*\")\n",
    "\n",
    "#отрывки\n",
    "reg_line = re.compile(\"Ин..?:.*\")\n",
    "reg_speaker = re.compile(\"(Ин..?):.*\")\n",
    "reg_saying = re.compile(\"Ин..?:\\s?(.*)\")"
   ]
  },
  {
   "cell_type": "markdown",
   "metadata": {},
   "source": [
    "**Парсер + запись в базу данных**"
   ]
  },
  {
   "cell_type": "code",
   "execution_count": 16,
   "metadata": {},
   "outputs": [],
   "source": [
    "i = 1\n",
    "\n",
    "for path in interviews_paths:\n",
    "    \n",
    "    #достаём текст\n",
    "    doc = docx.Document(path)\n",
    "    text = []\n",
    "    for paragraph in doc.paragraphs:\n",
    "        text.append(paragraph.text)\n",
    "    text = '\\n'.join(text)\n",
    "     \n",
    "    speakers_di = {}\n",
    "    \n",
    "    number = re.findall(reg_number, text)[0]\n",
    "    place = re.findall(reg_place, text)[0]\n",
    "    \n",
    "   #парсер даты\n",
    "    data = re.findall(reg_data, text)[0]\n",
    "    day = re.findall(r\"(.*)\\..*\\..*\", data)[0]\n",
    "    month = re.findall(r\".*\\.(.*)\\..*\", data)[0]\n",
    "    year = re.findall(r\".*\\..*\\.(.*)\", data)[0]\n",
    "    \n",
    "    real_names = re.findall(reg_inf_names, path)[0]\n",
    "    if ',' in real_names:\n",
    "        real_names = real_names.split(', ')\n",
    "    n = 0\n",
    "    \n",
    "    #парсер информантов\n",
    "    informants = re.findall(reg_inf, text)\n",
    "    for informant in informants:\n",
    "        if len(re.findall(reg_gender, informant)) > 0:\n",
    "            gender = re.findall(reg_gender, informant)[0]\n",
    "        if len(re.findall(reg_birth_year, informant)) > 0:\n",
    "            birth_year = re.findall(reg_birth_year, informant)[0]\n",
    "        speaker_role = 'informant'\n",
    "        data_informant = (speaker_role, gender, birth_year)\n",
    "        cur.executemany(\"INSERT INTO speaker VALUES (NULL, ?, ?, ?)\", (data_informant,))\n",
    "        if type(real_names) == list:\n",
    "            data_informant_real_name = [speaker_role, real_names[n]]\n",
    "        elif type(real_names) == str:\n",
    "            data_informant_real_name = [speaker_role, real_names]\n",
    "        cur.executemany(\"INSERT INTO speaker_names VALUES (NULL, ?, ?)\", (data_informant_real_name,))\n",
    "        role = re.findall(reg_role_inf, text)[n]\n",
    "        if type(real_names) == list:\n",
    "            speakers_di[role] = real_names[n]\n",
    "        elif type(real_names) == str:\n",
    "            speakers_di[role] = real_names\n",
    "        n += 1\n",
    "    \n",
    "    interviewers = re.findall(reg_int, text)\n",
    "    m = 0\n",
    "    for interviewer in interviewers:\n",
    "        cur.execute(interviewer_query)\n",
    "        result_set = cur.fetchall()\n",
    "        li = []\n",
    "        for row in result_set:\n",
    "            li.append(row[0])\n",
    "        if interviewer not in li:\n",
    "            speaker_role = 'interviewer'\n",
    "            data_interviewer = [speaker_role]\n",
    "            cur.executemany(\"INSERT INTO speaker VALUES (NULL, ?, NULL, NULL)\", (data_interviewer,))\n",
    "            data_interviewer_real_name = [speaker_role, interviewers[m]]\n",
    "            cur.executemany(\"INSERT INTO speaker_names VALUES (NULL, ?, ?)\", (data_interviewer_real_name,))\n",
    "        role = re.findall(reg_role_int, text)[m]\n",
    "        speakers_di[role] = interviewers[m]\n",
    "        m += 1\n",
    "    #код поиска интервьюера в таблице интервьюеров\n",
    "    \n",
    "   # speakers_di #создать словарь спикеров интервью\n",
    "    if len(interviewers) > 1:\n",
    "        interviewers = '; '.join(interviewers)\n",
    "    else:\n",
    "        interviewers = interviewers[0]\n",
    "    if len(informants) > 1:\n",
    "        informants = '; '.join(informants)\n",
    "    else:\n",
    "        informants = informants[0]\n",
    "    data1 = [number, informants, interviewers, place, day, month, year]\n",
    "    cur.executemany(\"INSERT INTO interviews VALUES (NULL, ?, ?, ?, ?, ?, ?, ?)\", (data1,))\n",
    "    interview_id = i\n",
    "    lines = re.findall(reg_line, text)\n",
    "    utterance_number = 1\n",
    "    for line in lines:\n",
    "        speaker = re.findall(reg_speaker, line)\n",
    "        saying = re.findall(reg_saying, line)[0]\n",
    "        role = speaker[0]\n",
    "        name = speakers_di[role]\n",
    "        cur.execute(id_search, (name,))\n",
    "        speaker_id = cur.fetchone()[0]\n",
    "        if 'Инф' in speaker[0]:\n",
    "            speaker_role = 'informant'\n",
    "        else:\n",
    "            speaker_role = 'interviewer'\n",
    "        data3 = [speaker_id, speaker_role, interview_id, saying, utterance_number]\n",
    "        cur.executemany(\"INSERT INTO utterances VALUES (NULL, ?, ?, ?, ?, ?)\", (data3,))\n",
    "        utterance_number += 1\n",
    "    con.commit()\n",
    "    i += 1"
   ]
  },
  {
   "cell_type": "code",
   "execution_count": 17,
   "metadata": {},
   "outputs": [],
   "source": [
    "con.commit()"
   ]
  }
 ],
 "metadata": {
  "kernelspec": {
   "display_name": "Python 3",
   "language": "python",
   "name": "python3"
  },
  "language_info": {
   "codemirror_mode": {
    "name": "ipython",
    "version": 3
   },
   "file_extension": ".py",
   "mimetype": "text/x-python",
   "name": "python",
   "nbconvert_exporter": "python",
   "pygments_lexer": "ipython3",
   "version": "3.8.5"
  }
 },
 "nbformat": 4,
 "nbformat_minor": 4
}
